{
 "cells": [
  {
   "cell_type": "code",
   "execution_count": 1,
   "metadata": {},
   "outputs": [
    {
     "name": "stderr",
     "output_type": "stream",
     "text": [
      "/home/michele.maggini/miniconda3/envs/unsloth_env/lib/python3.10/site-packages/tqdm/auto.py:21: TqdmWarning: IProgress not found. Please update jupyter and ipywidgets. See https://ipywidgets.readthedocs.io/en/stable/user_install.html\n",
      "  from .autonotebook import tqdm as notebook_tqdm\n"
     ]
    }
   ],
   "source": [
    "import re\n",
    "import pandas as pd\n",
    "import os\n",
    "import itertools\n",
    "import json\n",
    "import evaluate"
   ]
  },
  {
   "cell_type": "code",
   "execution_count": 2,
   "metadata": {},
   "outputs": [],
   "source": [
    "tsv_directory = '/home/michele.maggini/dataset'\n",
    "filename = 'sub_allsides.csv'\n",
    "df_path = os.path.join(tsv_directory, filename)\n",
    "df_gt= pd.read_csv(df_path)\n",
    "\n",
    "cd = '/home/michele.maggini/Llama3/'\n",
    "filename = 'ALLSIDES_sub_sys_ans_CoT.csv'\n",
    "path = os.path.join(cd, filename)\n",
    "df_ans = pd.read_csv(path)"
   ]
  },
  {
   "cell_type": "code",
   "execution_count": 15,
   "metadata": {},
   "outputs": [
    {
     "data": {
      "text/plain": [
       "Index(['Unnamed: 0', 'heading', 'text', 'bias_rating', 'article'], dtype='object')"
      ]
     },
     "execution_count": 15,
     "metadata": {},
     "output_type": "execute_result"
    }
   ],
   "source": [
    "df_gt.columns"
   ]
  },
  {
   "cell_type": "code",
   "execution_count": 18,
   "metadata": {},
   "outputs": [],
   "source": [
    "def extract_last_line(text):\n",
    "    # Split the text into lines\n",
    "    lines = text.strip().split('\\n')\n",
    "    # Return the last line\n",
    "    return lines[-1]\n",
    "\n",
    "\n",
    "def extract_integers(text):\n",
    "    # Regular expression to match integers enclosed in single quotes\n",
    "    pattern = r\"'(\\d+)'\"\n",
    "    \n",
    "    # Find all matches in the text\n",
    "    matches = re.findall(pattern, text)\n",
    "    \n",
    "    # Convert matches to integers\n",
    "    integers = [int(match) for match in matches]\n",
    "    \n",
    "    return integers\n",
    "\n",
    "\n",
    "def extract_numbers(string_list):\n",
    "    \"\"\"\n",
    "    This function takes a list of strings, each representing a number,\n",
    "    and returns a new list of integers.\n",
    "\n",
    "    :param string_list: List of strings representing numbers\n",
    "    :return: List of integers\n",
    "    \"\"\"\n",
    "    return [int(num) for num in string_list]"
   ]
  },
  {
   "cell_type": "code",
   "execution_count": 29,
   "metadata": {},
   "outputs": [
    {
     "data": {
      "text/plain": [
       "'**Output:** 0 (Left-wing)'"
      ]
     },
     "execution_count": 29,
     "metadata": {},
     "output_type": "execute_result"
    }
   ],
   "source": [
    "listLastline = df_ans['0'].apply(lambda x: extract_last_line(x))\n",
    "df_lastline = listLastline.to_list()\n"
   ]
  },
  {
   "cell_type": "code",
   "execution_count": 50,
   "metadata": {},
   "outputs": [
    {
     "data": {
      "text/plain": [
       "'Since there is no headline provided, I cannot perform the analysis. Please provide a headline for me to analyze, and I will respond with the corresponding integer label (0 for left-wing, 1 for center, or 2 for right-wing) and a brief explanation.'"
      ]
     },
     "execution_count": 50,
     "metadata": {},
     "output_type": "execute_result"
    }
   ],
   "source": [
    "\"\"\"No integer or keyword found in element at index 214\n",
    "No integer or keyword found in element at index 384\n",
    "No integer or keyword found in element at index 812\n",
    "No integer or keyword found in element at index 1145\n",
    "No integer or keyword found in element at index 1644\n",
    "No integer or keyword found in element at index 1683\n",
    "No integer or keyword found in element at index 1901\n",
    "No integer or keyword found in element at index 2209\n",
    "No integer or keyword found in element at index 2263\"\"\"\n",
    "df_lastline[276]"
   ]
  },
  {
   "cell_type": "code",
   "execution_count": 56,
   "metadata": {},
   "outputs": [],
   "source": [
    "import re\n",
    "\n",
    "def extract_integers(input_list):\n",
    "    # This will store the extracted integers\n",
    "    integers = []\n",
    "    \n",
    "    # Define a regex pattern to match integers\n",
    "    integer_pattern = re.compile(r'\\b\\d+\\b')\n",
    "    \n",
    "    for index, item in enumerate(input_list):\n",
    "        # Find all integers in the string item\n",
    "        found_integers = integer_pattern.findall(item)\n",
    "        \n",
    "        if found_integers:\n",
    "            # Convert found integers to int and add to the result list\n",
    "            int_found_integers = list(map(int, found_integers))\n",
    "            integers.extend(int_found_integers)\n",
    "            \n",
    "            # Check if there are more than one integer and print the element if true\n",
    "            if len(int_found_integers) > 1:\n",
    "                print(f\"Element at index {index} contains more than one integer: {item}\")\n",
    "    \n",
    "        else:\n",
    "            # Print the index if neither integers nor keywords are found\n",
    "            print(f\"No integer or keyword found in element at index {index}\")\n",
    "    \n",
    "    return integers"
   ]
  },
  {
   "cell_type": "code",
   "execution_count": 57,
   "metadata": {},
   "outputs": [
    {
     "name": "stdout",
     "output_type": "stream",
     "text": [
      "gold_ans: [0, 0, 1, 1, 2, 1, 1, 2, 1, 0, 0, 1, 2, 0, 1, 1, 1, 2, 1, 0, 1, 1, 1, 0, 2, 0, 0, 0, 1, 0, 1, 2, 0, 0, 0, 0, 1, 0, 1, 0, 1, 2, 1, 0, 2, 0, 0, 1, 0, 2, 2, 2, 1, 0, 1, 0, 2, 0, 1, 1, 1, 2, 2, 0, 2, 1, 0, 2, 0, 2, 0, 2, 0, 1, 1, 1, 0, 2, 0, 1, 2, 1, 1, 1, 2, 1, 1, 0, 2, 2, 0, 0, 2, 1, 0, 1, 1, 2, 2, 0, 1, 0, 0, 2, 1, 1, 2, 0, 2, 1, 0, 0, 2, 1, 2, 2, 0, 2, 1, 0, 2, 2, 1, 0, 2, 0, 2, 2, 1, 2, 2, 1, 0, 0, 2, 0, 2, 0, 1, 1, 0, 0, 0, 2, 1, 0, 0, 0, 1, 2, 0, 2, 0, 2, 0, 1, 1, 0, 1, 2, 1, 0, 0, 2, 1, 1, 2, 0, 2, 0, 1, 2, 1, 2, 0, 2, 1, 2, 1, 1, 0, 1, 2, 0, 2, 0, 1, 2, 0, 2, 0, 1, 1, 0, 0, 1, 1, 2, 0, 2, 2, 2, 2, 0, 0, 2, 1, 1, 2, 2, 2, 0, 2, 1, 2, 0, 1, 0, 1, 2, 1, 1, 0, 1, 0, 1, 0, 2, 1, 2, 1, 2, 1, 1, 1, 2, 0, 1, 2, 2, 1, 0, 2, 2, 1, 2, 0, 0, 1, 1, 2, 2, 0, 0, 0, 2, 2, 2, 0, 0, 1, 0, 0, 2, 1, 1, 0, 1, 0, 2, 0, 0, 2, 2, 1, 0, 0, 2, 0, 2, 1, 2, 1, 0, 0, 1, 1, 2, 0, 0, 1, 2, 1, 2, 2, 2, 2, 1, 0, 0, 2, 2, 0, 2, 1, 2, 2, 1, 2, 2, 0, 1, 0, 1, 1, 1, 0, 1, 1, 2, 2, 2, 0, 1, 0, 2, 0, 0, 1, 2, 2, 1, 2, 0, 0, 1, 2, 2, 2, 0, 0, 2, 2, 1, 0, 2, 1, 1, 2, 0, 1, 2, 0, 1, 2, 2, 0, 0, 1, 2, 0, 0, 2, 0, 2, 1, 2, 2, 1, 0, 2, 1, 1, 1, 1, 2, 1, 0, 0, 2, 2, 2, 2, 0, 2, 2, 1, 1, 1, 1, 1, 1, 2, 0, 0, 0, 0, 2, 2, 2, 0, 0, 0, 1, 2, 1, 1, 2, 0, 1, 1, 2, 0, 2, 0, 1, 2, 2, 1, 1, 0, 0, 0, 0, 1, 2, 0, 2, 1, 2, 1, 0, 1, 0, 0, 0, 0, 2, 0, 2, 1, 1, 2, 0, 1, 0, 1, 0, 2, 2, 2, 0, 2, 1, 0, 1, 2, 2, 2, 2, 1, 2, 1, 2, 0, 2, 1, 1, 2, 1, 2, 1, 0, 1, 1, 2, 1, 2, 0, 2, 2, 0, 0, 0, 2, 1, 1, 0, 0, 2, 0, 1, 2, 2, 1, 0, 2, 2, 2, 1, 1, 0, 2, 0, 0, 1, 1, 1, 0, 2, 0, 2, 1, 2, 1, 0, 2, 0, 1, 2, 1, 2, 0, 2, 2, 0, 1, 1, 0, 1, 2, 1, 0, 1, 1, 0, 1, 2, 0, 0, 1, 1, 0, 2, 2, 1, 0, 1, 0, 0, 0, 2, 0, 0, 2, 0, 1, 1, 0, 0, 0, 1, 1, 2, 1, 2, 1, 1, 1, 0, 1, 1, 2, 2, 1, 2, 0, 1, 1, 0, 2, 0, 0, 0, 2, 1, 1, 2, 1, 1, 1, 0, 1, 2, 2, 2, 2, 2, 1, 1, 0, 2, 2, 1, 2, 0, 2, 1, 0, 1, 2, 1, 2, 0, 0, 1, 2, 2, 0, 0, 1, 2, 1, 2, 0, 1, 0, 2, 1, 0, 2, 1, 0, 0, 0, 1, 1, 2, 0, 2, 0, 1, 1, 2, 1, 2, 2, 2, 1, 1, 1, 2, 0, 0, 1, 1, 2, 0, 0, 1, 0, 2, 2, 0, 1, 2, 2, 1, 1, 1, 0, 2, 0, 0, 2, 2, 2, 2, 1, 2, 1, 1, 1, 0, 0, 2, 0, 0, 2, 1, 0, 1, 0, 1, 2, 1, 0, 1, 2, 2, 1, 1, 2, 0, 2, 0, 0, 2, 0, 0, 1, 1, 0, 2, 1, 1, 2, 0, 0, 1, 1, 0, 2, 1, 2, 2, 0, 1, 0, 1, 0, 2, 0, 0, 0, 2, 1, 0, 1, 2, 1, 0, 1, 1, 0, 2, 2, 1, 0, 2, 0, 0, 2, 0, 0, 2, 1, 1, 2, 1, 2, 2, 0, 1, 1, 1, 0, 0, 1, 0, 0, 2, 1, 2, 0, 0, 0, 1, 1, 1, 0, 0, 2, 1, 0, 2, 2, 0, 1, 2, 2, 2, 1, 2, 0, 0, 0, 1, 0, 2, 1, 1, 0, 2, 2, 2, 0, 0, 2, 0, 1, 1, 2, 2, 0, 0, 1, 2, 2, 2, 1, 1, 0, 0, 0, 0, 1, 0, 0, 0, 0, 2, 0, 2, 0, 2, 2, 0, 1, 1, 0, 0, 1, 1, 2, 1, 1, 2, 2, 1, 1, 1, 1, 2, 2, 1, 1, 0, 0, 2, 0, 1, 1, 0, 0, 2, 2, 0, 0, 1, 2, 1, 1, 0, 1, 2, 0, 0, 1, 0, 0, 0, 1, 1, 2, 2, 2, 2, 1, 1, 0, 1, 2, 1, 1, 1, 1, 1, 2, 0, 1, 2, 0, 2, 1, 0, 1, 2, 0, 0, 2, 1, 2, 2, 1, 1, 2, 0, 1, 2, 1, 1, 0, 2, 0, 1, 2, 1, 2, 2, 2, 2, 1, 0, 2, 2, 1, 0, 1, 1, 0, 2, 0, 1, 2, 0, 2, 0, 0, 0, 1, 0, 1, 1, 1, 2, 2, 1, 1, 0, 2, 2, 0, 0, 1, 0, 0, 0, 2, 2, 0, 2, 2, 0, 1, 0, 2, 1, 2, 0, 1, 2, 2, 2, 2, 1, 2, 1, 0, 1, 2, 1, 1, 0, 1, 2, 0, 2, 2, 0, 0, 0, 2, 2, 1, 0, 0, 2, 2, 0, 0, 1, 2, 0, 2, 0, 0, 2, 2, 2, 1, 2, 0, 1, 2, 0, 0, 1, 2, 0, 0, 2, 1, 0, 2, 2, 1, 1, 2, 1, 1, 0, 2, 1, 0, 1, 0, 1, 0, 0, 2, 1, 0, 1, 1, 0, 1, 2, 0, 0, 2, 0, 1, 0, 2, 2, 1, 0, 0, 2, 0, 1, 2, 1, 1, 0, 0, 2, 1, 2, 0, 1, 0, 0, 0, 2, 0, 2, 0, 1, 0, 0, 2, 0, 0, 2, 1, 1, 0, 0, 2, 2, 1, 2, 2, 1, 2, 1, 2, 2, 2, 0, 1, 1, 1, 2, 1, 1, 1, 0, 2, 2, 2, 0, 1, 1, 0, 0, 2, 1, 0, 2, 1, 1, 2, 0, 0, 0, 0, 0, 0, 1, 1, 2, 0, 2, 0, 1, 1, 1, 1, 0, 0, 2, 2, 0, 1, 1, 0, 0, 1, 2, 1, 0, 0, 1, 0, 1, 1, 1, 0, 0, 1, 2, 2, 2, 1, 0, 1, 0, 0, 1, 1, 2, 2, 0, 1, 0, 2, 1, 1, 0, 0, 0, 2, 0, 2, 2, 0, 2, 2, 0, 2, 2, 0, 2, 2, 0, 0, 1, 1, 0, 2, 2, 2, 0, 0, 2, 2, 2, 2, 0, 1, 1, 1, 2, 0, 0, 2, 1, 0, 2, 1, 0, 0, 0, 1, 2, 2, 1, 2, 1, 1, 1, 2, 2, 2, 2, 0, 1, 0, 1, 0, 1, 1, 1, 2, 1, 2, 1, 1, 0, 1, 2, 1, 1, 1, 2, 1, 1, 1, 1, 1, 0, 1, 0, 0, 1, 0, 1, 1, 1, 1, 2, 0, 1, 2, 2, 0, 0, 1, 0, 1, 1, 2, 2, 1, 2, 1, 0, 1, 0, 1, 1, 0, 0, 0, 0, 2, 0, 0, 0, 2, 2, 2, 0, 1, 2, 0, 0, 2, 1, 1, 2, 2, 0, 1, 1, 0, 0, 1, 2, 2, 1, 1, 2, 2, 0, 0, 2, 2, 2, 0, 1, 1, 2, 2, 1, 1, 0, 1, 2, 0, 1, 1, 0, 1, 1, 0, 2, 1, 1, 0, 2, 2, 1, 1, 0, 0, 1, 0, 2, 1, 1, 1, 2, 1, 2, 0, 0, 1, 1, 0, 0, 1, 2, 1, 1, 2, 0, 2, 2, 0, 0, 0, 1, 0, 2, 0, 1, 1, 0, 0, 2, 0, 2, 1, 0, 1, 2, 1, 2, 1, 1, 2, 0, 1, 1, 0, 0, 2, 1, 1, 0, 0, 1, 1, 2, 2, 0, 0, 1, 2, 1, 2, 0, 0, 2, 0, 0, 1, 1, 2, 2, 1, 1, 0, 1, 0, 2, 2, 2, 0, 1, 2, 0, 1, 1, 0, 1, 2, 0, 2, 2, 1, 0, 1, 0, 2, 0, 2, 0, 0, 2, 2, 2, 1, 1, 1, 1, 2, 0, 0, 1, 2, 0, 1, 0, 2, 1, 2, 1, 1, 0, 2, 0, 0, 2, 2, 1, 0, 2, 1, 2, 2, 1, 0, 2, 1, 1, 1, 1, 1, 2, 2, 1, 2, 0, 1, 1, 0, 1, 2, 2, 0, 1, 1, 0, 0, 2, 0, 1, 2, 2, 0, 0, 0, 1, 2, 0, 1, 1, 0, 2, 2, 1, 0, 0, 2, 0, 2, 1, 2, 2, 0, 0, 0, 1, 1, 1, 1, 1, 2, 0, 2, 1, 2, 0, 1, 0, 2, 0, 0, 1, 0, 1, 2, 2, 1, 2, 2, 2, 2, 2, 0, 1, 2, 2, 2, 1, 1, 0, 0, 1, 0, 0, 0, 2, 2, 2, 2, 2, 2, 1, 0, 0, 0, 0, 1, 1, 2, 2, 2, 1, 2, 0, 2, 0, 2, 1, 0, 0, 0, 2, 1, 2, 0, 0, 0, 2, 0, 1, 2, 0, 0, 1, 2, 1, 1, 0, 1, 2, 1, 1, 2, 0, 0, 0, 0, 0, 1, 2, 1, 2, 2, 0, 1, 2, 2, 0, 0, 0, 2, 2, 2, 1, 2, 0, 0, 0, 1, 2, 2, 0, 2, 2, 1, 2, 2, 2, 1, 0, 0, 2, 2, 1, 1, 1, 1, 1, 0, 2, 0, 2, 0, 1, 0, 0, 1, 0, 1, 2, 0, 0, 0, 0, 0, 1, 2, 0, 0, 1, 2, 0, 2, 2, 2, 1, 2, 0, 1, 2, 2, 1, 2, 1, 1, 0, 2, 2, 1, 1, 1, 0, 1, 1, 0, 2, 2, 2, 0, 2, 0, 1, 2, 2, 1, 2, 0, 1, 1, 2, 2, 1, 0, 2, 2, 2, 2, 1, 2, 2, 2, 0, 1, 1, 1, 0, 1, 2, 1, 0, 2, 2, 0, 2, 1, 1, 0, 1, 1, 1, 0, 2, 2, 1, 0, 2, 0, 2, 2, 2, 2, 1, 0, 2, 2, 2, 0, 1, 0, 2, 2, 1, 2, 2, 0, 2, 1, 0, 0, 0, 1, 1, 1, 0, 0, 1, 1, 0, 1, 2, 0, 1, 0, 1, 2, 1, 2, 1, 2, 0, 1, 1, 0, 0, 2, 2, 2, 0, 2, 0, 0, 0, 2, 2, 0, 0, 1, 2, 2, 2, 1, 2, 2, 0, 1, 0, 2, 0, 1, 1, 2, 2, 0, 1, 0, 2, 2, 1, 0, 1, 1, 2, 0, 2, 0, 1, 1, 2, 0, 1, 2, 1, 1, 2, 1, 0, 1, 1, 1, 1, 0, 2, 0, 2, 1, 1, 0, 0, 2, 2, 0, 0, 2, 0, 1, 1, 1, 0, 1, 0, 0, 2, 1, 1, 1, 2, 2, 0, 1, 0, 0, 2, 1, 0, 1, 1, 1, 0, 0, 2, 0, 1, 2, 2, 2, 2, 0, 2, 0, 0, 1, 0, 2, 1, 0, 0, 1, 0, 0, 2, 0, 1, 2, 0, 0, 0, 1, 0, 0, 2, 0, 0, 2, 1, 2, 1, 1, 1, 2, 1, 1, 1, 1, 0, 2, 0, 0, 2, 1, 2, 2, 2, 1, 1, 2, 2, 0, 2, 2, 2, 0, 1, 1, 0, 0, 0, 1, 1, 2, 0, 1, 1, 0, 0, 0, 1, 2, 0, 2, 2, 0, 0, 2, 2, 0, 0, 1, 0, 2, 0, 1, 0, 2, 1, 1, 0, 1, 1, 2, 0, 0, 1, 2, 1, 0, 1, 2, 2, 2, 0, 1, 1, 2, 0, 0, 1, 2, 1, 1, 0, 1, 2, 0, 0, 0, 0, 2, 2, 1, 1, 1, 1, 0, 1, 0, 1, 0, 2, 1, 2, 2, 2, 2, 2, 0, 1, 1, 2, 1, 1, 2, 2, 2, 1, 2, 1, 2, 1, 0, 1, 2, 2, 1, 1, 2, 2, 2, 2, 2, 2, 2, 1, 0, 1, 0, 1, 2, 0, 2, 1, 1, 0, 2, 0, 2, 2, 1, 0, 1, 2, 2, 0, 0, 1, 2, 1, 1, 0, 1, 2, 0, 2, 1, 0, 2, 2, 0, 0, 2, 2, 2, 1, 0, 0, 2, 0, 2, 0, 2, 1, 0, 2, 0, 2, 2, 0, 2, 2, 1, 1, 2, 1, 2, 0, 1, 0, 0, 0, 0, 2, 1, 1, 0, 0, 1, 0, 2, 0, 1, 2, 2, 0, 1, 1, 0, 2, 0, 2, 2, 2, 2, 2, 2, 1, 2, 2, 2, 1, 2, 0, 0, 0, 1, 0, 0, 0, 0, 2, 2, 2, 1, 0, 1, 1, 0, 0, 2, 0, 2, 2, 1, 0, 1, 1, 2, 2, 0, 0, 1, 2, 2, 0, 1, 0, 0, 1, 1, 2, 2, 2, 0, 0, 2, 1, 2, 2, 0, 2, 0, 2, 1, 0, 2, 2, 0, 2, 2, 1, 2, 1, 1, 1, 1, 1, 2, 1, 2, 1, 2, 0, 2, 0, 2, 1, 2, 2, 1, 0, 0, 1, 1, 2, 2, 2, 0, 1, 0, 0, 1, 2, 2, 0, 0, 2, 0, 2, 0, 0, 0, 1, 1, 1, 1, 2, 2, 1, 2, 1, 0, 0, 2, 2, 2, 1, 2, 0, 2, 1, 0, 1, 0, 1, 1, 0, 2, 0, 1, 0, 0, 1, 0, 0, 1, 1, 2, 0, 1, 1, 1, 1, 1, 1, 0, 2, 2, 1, 1, 1, 0, 2, 2, 2, 2, 0, 1, 2, 0, 2, 0, 1, 2, 2, 1, 1, 1, 1, 1, 2, 0, 2, 1, 0, 2, 2, 1, 1, 0, 0, 0, 1, 2, 2, 1, 1, 1, 1, 1, 1, 2, 1, 2, 2, 2, 1, 0, 2, 0, 2, 2, 2, 2, 0, 1, 2, 0, 1, 2, 1, 1, 1, 0, 0, 2, 2, 0, 1, 1, 0, 1, 0, 2, 1, 2, 2, 0, 0, 0, 1, 1, 2, 2, 2, 2, 1, 0, 1, 0, 1, 0, 2, 1, 1, 2, 0, 2, 0, 1, 1, 0, 2, 1, 0, 0, 0, 2, 2, 1, 2, 0, 2, 2, 2, 0, 2, 0, 0, 1, 0, 0, 2, 0, 1, 0, 2, 0, 2, 2, 1, 0, 0, 2, 1, 0, 1, 2, 1, 0, 1, 2, 1, 2, 2, 2, 1, 1, 0, 0, 0, 1, 1, 2, 2, 0, 2, 1, 0, 0, 0, 0, 0, 0, 2, 0, 2, 2, 2, 1, 2, 2, 0, 2, 1, 2, 0, 0, 0, 1, 0, 1, 0, 1, 0, 1, 1, 1, 1, 0, 1, 0, 1, 2, 2, 2, 1, 2, 2, 1, 0, 1, 0, 1, 2, 1, 0, 2, 0, 1, 2, 1, 2, 1, 1, 0, 2, 1, 0, 0, 1, 2, 0, 0, 0, 1, 0, 0, 0, 1, 0, 2, 0, 1, 1, 0, 2, 1, 0, 2, 2, 1, 2, 1, 1, 2, 1, 2, 0, 0, 1, 1, 0, 1, 1, 2, 0, 0, 2, 2, 0, 0, 2, 2, 2, 2, 0, 0, 2, 0, 2, 2, 2, 2, 0, 2, 1, 2, 1, 2, 1, 1, 0, 2, 2, 0, 2, 0, 2, 0, 0, 0, 2, 0, 1, 0, 1, 2, 1, 2, 0, 0, 2, 1, 0, 2, 2, 1, 1, 2, 0, 0, 2, 1, 2, 0, 1, 2, 1, 0, 0, 2, 1, 0, 2, 0, 1, 1, 0, 2, 1, 2, 0, 1, 0, 2, 1, 1, 1, 1, 2, 2, 1, 1, 2, 2, 0, 2, 2, 1, 1, 1, 1, 2, 0, 2, 1, 1, 0, 1, 2, 2, 0, 1, 2, 2, 0, 1, 1, 1, 2, 0, 0, 2, 2, 1, 0, 1, 1, 2, 2, 0, 1, 2, 1, 0, 1, 2, 0, 2, 0, 0, 2, 2, 2, 1, 1, 1, 1, 0, 1, 1, 1, 1, 0, 0, 2, 0, 1, 1, 2, 0, 1, 1, 1, 1, 0, 0, 1, 1, 0, 0, 0, 1, 1, 2, 2, 2, 0, 0, 0, 0, 0, 2, 1, 2, 0, 0, 2, 0, 0, 0, 0, 1, 1, 0, 1, 2, 0, 0, 1, 1, 1, 2, 2, 1, 0, 1, 1, 1, 1, 0, 0, 0, 0, 2, 1, 0, 0, 1, 2, 2, 0, 2, 0, 0, 1, 0, 0, 0, 2, 2, 2, 2, 2, 0, 2, 1, 1, 2, 0, 0, 0, 0, 0, 1, 1, 1, 1, 1, 1, 2, 0, 1, 1, 1, 1, 1, 0, 1, 0, 1, 0, 0, 0, 0, 2, 1, 0, 0, 0, 2, 0, 2, 0, 0, 1, 1, 2, 1, 2, 2, 0, 2, 1, 1, 0, 2, 1, 0, 2, 0, 1, 1, 1, 2, 1, 2, 2, 1, 0, 0, 0, 2, 2, 2, 1, 0, 0, 2, 0, 0, 2, 0, 2, 1, 2, 0, 2, 1, 1, 1, 0, 0, 0, 0, 2, 1, 0, 2, 1, 0, 0, 2, 2, 2, 2, 1, 1, 0, 2, 0, 0, 0, 1, 1, 0, 1, 0, 0, 2, 0, 2, 2, 0, 2, 2, 1, 0, 0, 0, 2, 1, 0, 2, 2, 1, 2, 1, 1, 1, 2, 0, 1, 1, 0, 0, 2, 0, 1, 1, 2, 2, 0, 0, 0, 2, 1, 1, 2, 0, 1, 1, 2, 1, 1, 2, 2, 0, 2, 0]\n",
      "Element at index 276 contains more than one integer: Since there is no headline provided, I cannot perform the analysis. Please provide a headline for me to analyze, and I will respond with the corresponding integer label (0 for left-wing, 1 for center, or 2 for right-wing) and a brief explanation.\n",
      "Element at index 2796 contains more than one integer: Please provide the headline you'd like me to analyze, and I'll follow the instruction to determine if it's hyperpartisan and return the output as an integer (0 for left-wing, 1 for center, or 2 for right-wing).\n"
     ]
    }
   ],
   "source": [
    "\n",
    "gold_ans = df_gt['bias_rating'].tolist()\n",
    "print(\"gold_ans:\", gold_ans)\n",
    "labels_parsed = extract_integers(df_lastline)"
   ]
  },
  {
   "cell_type": "code",
   "execution_count": 58,
   "metadata": {},
   "outputs": [
    {
     "data": {
      "text/plain": [
       "3004"
      ]
     },
     "execution_count": 58,
     "metadata": {},
     "output_type": "execute_result"
    }
   ],
   "source": [
    "len(labels_parsed)"
   ]
  },
  {
   "cell_type": "code",
   "execution_count": 41,
   "metadata": {},
   "outputs": [
    {
     "name": "stdout",
     "output_type": "stream",
     "text": [
      "CLEF3A, CoT, prompt with temperature=0.1:\n",
      " {\n",
      "    \"accuracy\": 0.5166666666666667,\n",
      "    \"precision\": 0.5489510489510488,\n",
      "    \"recall\": 0.5166666666666667,\n",
      "    \"f1-score\": 0.5223665223665223\n",
      "}\n"
     ]
    },
    {
     "name": "stderr",
     "output_type": "stream",
     "text": [
      "/home/michele.maggini/miniconda3/envs/unsloth_env/lib/python3.10/site-packages/sklearn/metrics/_classification.py:1531: UndefinedMetricWarning: Recall is ill-defined and being set to 0.0 in labels with no true samples. Use `zero_division` parameter to control this behavior.\n",
      "  _warn_prf(average, modifier, f\"{metric.capitalize()} is\", len(result))\n"
     ]
    }
   ],
   "source": [
    "def compute_metrics(predictions, labels):\n",
    "        accuracy_metric = evaluate.load(\"accuracy\")\n",
    "        precision_metric = evaluate.load(\"precision\")\n",
    "        recall_metric = evaluate.load(\"recall\")\n",
    "        f1_metric = evaluate.load(\"f1\")\n",
    "\n",
    "\n",
    "        accuracy = accuracy_metric.compute(predictions=predictions, references=labels)[\n",
    "            \"accuracy\"\n",
    "        ]\n",
    "        precision = precision_metric.compute(\n",
    "            predictions=predictions, references=labels, average=\"weighted\"\n",
    "        )[\"precision\"]\n",
    "        recall = recall_metric.compute(\n",
    "            predictions=predictions, references=labels, average=\"weighted\"\n",
    "        )[\"recall\"]\n",
    "        f1 = f1_metric.compute(\n",
    "            predictions=predictions, references=labels, average=\"weighted\"\n",
    "        )[\"f1\"]\n",
    "\n",
    "        return {\n",
    "            \"accuracy\": accuracy,\n",
    "            \"precision\": precision,\n",
    "            \"recall\": recall,\n",
    "            \"f1-score\": f1,\n",
    "        }\n",
    "\n",
    "\n",
    "results=compute_metrics(labels_parsed, gold_ans)\n",
    "print(f\"CLEF3A, CoT, prompt with temperature=0.1:\\n\", json.dumps(results, indent=4))"
   ]
  }
 ],
 "metadata": {
  "kernelspec": {
   "display_name": "bert_env",
   "language": "python",
   "name": "python3"
  },
  "language_info": {
   "codemirror_mode": {
    "name": "ipython",
    "version": 3
   },
   "file_extension": ".py",
   "mimetype": "text/x-python",
   "name": "python",
   "nbconvert_exporter": "python",
   "pygments_lexer": "ipython3",
   "version": "3.10.14"
  }
 },
 "nbformat": 4,
 "nbformat_minor": 2
}
