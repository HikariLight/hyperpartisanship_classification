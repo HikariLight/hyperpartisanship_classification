{
 "cells": [
  {
   "cell_type": "code",
   "execution_count": 1,
   "metadata": {},
   "outputs": [
    {
     "name": "stderr",
     "output_type": "stream",
     "text": [
      "/home/michele.maggini/miniconda3/envs/unsloth_env/lib/python3.10/site-packages/tqdm/auto.py:21: TqdmWarning: IProgress not found. Please update jupyter and ipywidgets. See https://ipywidgets.readthedocs.io/en/stable/user_install.html\n",
      "  from .autonotebook import tqdm as notebook_tqdm\n"
     ]
    }
   ],
   "source": [
    "import re\n",
    "import pandas as pd\n",
    "import os\n",
    "import itertools\n",
    "import json\n",
    "import evaluate"
   ]
  },
  {
   "cell_type": "code",
   "execution_count": 2,
   "metadata": {},
   "outputs": [],
   "source": [
    "cd = '/home/michele.maggini/Llama3/'\n",
    "filename = 'CLEF3A_sys_ans_CoT.csv'\n",
    "path = os.path.join(cd, filename)\n",
    "\n",
    "\n",
    "filename_2 = \"CLEF3A_sampled.csv\"\n",
    "path_2 = os.path.join(cd, filename_2)\n",
    "df_gt = pd.read_csv(path_2)\n",
    "\n",
    "#n_example=20\n",
    "#df = df.groupby('label').head(n_example)\n",
    "\n",
    "df_ans = pd.read_csv(path)"
   ]
  },
  {
   "cell_type": "code",
   "execution_count": 3,
   "metadata": {},
   "outputs": [
    {
     "data": {
      "text/plain": [
       "((3000, 2), (3000, 1))"
      ]
     },
     "execution_count": 3,
     "metadata": {},
     "output_type": "execute_result"
    }
   ],
   "source": [
    "df_gt.shape, df_ans.shape"
   ]
  },
  {
   "cell_type": "code",
   "execution_count": 4,
   "metadata": {},
   "outputs": [],
   "source": [
    "def extract_last_line(text):\n",
    "    # Split the text into lines\n",
    "    lines = text.strip().split('\\n')\n",
    "    # Return the last line\n",
    "    return lines[-1]\n",
    "\n",
    "\n",
    "def extract_integers(text):\n",
    "    # Regular expression to match integers enclosed in single quotes\n",
    "    pattern = r\"'(\\d+)'\"\n",
    "    \n",
    "    # Find all matches in the text\n",
    "    matches = re.findall(pattern, text)\n",
    "    \n",
    "    # Convert matches to integers\n",
    "    integers = [int(match) for match in matches]\n",
    "    \n",
    "    return integers\n",
    "\n",
    "\n",
    "def extract_numbers(string_list):\n",
    "    \"\"\"\n",
    "    This function takes a list of strings, each representing a number,\n",
    "    and returns a new list of integers.\n",
    "\n",
    "    :param string_list: List of strings representing numbers\n",
    "    :return: List of integers\n",
    "    \"\"\"\n",
    "    return [int(num) for num in string_list]"
   ]
  },
  {
   "cell_type": "code",
   "execution_count": 5,
   "metadata": {},
   "outputs": [
    {
     "data": {
      "text/plain": [
       "\"Based on the analysis, I would label this headline as a right-wing hyperpartisan article. The language used is critical of Kamala Harris, a prominent Democratic politician, and the tone is sensational and emotive. The article's intent appears to be to persuade rather than inform, and the language used is likely to appeal to a right-wing audience.\""
      ]
     },
     "execution_count": 5,
     "metadata": {},
     "output_type": "execute_result"
    }
   ],
   "source": [
    "listLastline = df_ans['0'].apply(lambda x: extract_last_line(x))\n",
    "df_lastline = listLastline.to_list()\n",
    "df_lastline[0]"
   ]
  },
  {
   "cell_type": "code",
   "execution_count": 6,
   "metadata": {},
   "outputs": [],
   "source": [
    "def extract_integers(input_list):\n",
    "    # This will store the extracted integers\n",
    "    integers = []\n",
    "    \n",
    "    # Define a regex pattern to match integers\n",
    "    integer_pattern = re.compile(r'\\b\\d+\\b')\n",
    "    \n",
    "    for index, item in enumerate(input_list):\n",
    "        # Find all integers in the string item\n",
    "        found_integers = integer_pattern.findall(item)\n",
    "        \n",
    "        if found_integers:\n",
    "            # Convert found integers to int and add to the result list\n",
    "            integers.extend(map(int, found_integers))\n",
    "        else:\n",
    "            # Check for keywords if no integers are found\n",
    "            item_lower = item.lower()\n",
    "            if 'left' in item_lower:\n",
    "                integers.append(0)\n",
    "            elif 'center' in item_lower or 'neutral' in item_lower:\n",
    "                integers.append(1)\n",
    "            elif 'right' in item_lower:\n",
    "                integers.append(2)\n",
    "            else:\n",
    "                # Print the index if neither integers nor keywords are found\n",
    "                print(f\"No integer or keyword found in element at index {index}\", integers.append(1))\n",
    "    \n",
    "    return integers"
   ]
  },
  {
   "cell_type": "code",
   "execution_count": 7,
   "metadata": {},
   "outputs": [
    {
     "data": {
      "text/plain": [
       "'This indicates that the article is not hyperpartisan, as it does not exhibit any strong ideological bias or attempt to persuade the reader.'"
      ]
     },
     "execution_count": 7,
     "metadata": {},
     "output_type": "execute_result"
    }
   ],
   "source": [
    "df_lastline[136]"
   ]
  },
  {
   "cell_type": "code",
   "execution_count": 8,
   "metadata": {},
   "outputs": [
    {
     "name": "stdout",
     "output_type": "stream",
     "text": [
      "gold_ans: [2, 2, 1, 2, 1, 2, 2, 0, 2, 2, 0, 2, 0, 1, 1, 0, 2, 1, 0, 0, 1, 1, 0, 2, 1, 1, 1, 0, 0, 2, 0, 1, 2, 1, 0, 1, 1, 1, 1, 2, 0, 1, 2, 0, 1, 2, 2, 1, 1, 2, 0, 2, 2, 0, 1, 2, 1, 1, 1, 0, 2, 2, 2, 0, 1, 2, 1, 1, 2, 2, 0, 0, 0, 2, 2, 2, 0, 2, 2, 0, 0, 0, 2, 1, 2, 1, 2, 2, 1, 2, 2, 2, 1, 0, 0, 1, 2, 1, 0, 1, 1, 1, 2, 2, 1, 2, 2, 2, 0, 0, 0, 2, 2, 2, 1, 1, 2, 0, 2, 0, 0, 2, 0, 0, 1, 1, 0, 2, 2, 2, 2, 2, 2, 1, 0, 1, 0, 2, 0, 1, 1, 1, 1, 0, 1, 1, 0, 1, 2, 1, 0, 0, 2, 1, 0, 2, 2, 1, 1, 2, 1, 1, 1, 2, 2, 0, 1, 0, 2, 1, 0, 0, 1, 0, 0, 0, 1, 0, 0, 0, 0, 1, 1, 1, 1, 1, 2, 0, 0, 0, 2, 2, 2, 1, 1, 0, 1, 2, 1, 0, 2, 0, 1, 0, 2, 2, 1, 1, 2, 0, 1, 0, 2, 2, 2, 0, 2, 2, 1, 2, 0, 1, 2, 1, 1, 2, 2, 2, 1, 0, 2, 1, 0, 1, 1, 0, 2, 0, 2, 2, 1, 1, 2, 0, 2, 1, 2, 2, 0, 2, 2, 1, 1, 2, 2, 2, 2, 2, 2, 0, 2, 0, 0, 1, 0, 0, 2, 1, 1, 2, 1, 0, 1, 1, 2, 2, 0, 2, 0, 2, 1, 2, 2, 1, 1, 1, 2, 0, 2, 1, 2, 0, 0, 0, 1, 1, 2, 2, 1, 0, 1, 1, 0, 2, 2, 1, 1, 2, 2, 0, 1, 2, 2, 0, 1, 1, 1, 2, 2, 2, 1, 1, 0, 2, 2, 1, 1, 0, 2, 2, 2, 0, 1, 1, 2, 2, 0, 0, 2, 1, 2, 1, 2, 2, 1, 1, 1, 2, 2, 1, 2, 1, 1, 1, 2, 2, 1, 0, 1, 2, 2, 0, 2, 1, 1, 1, 2, 2, 1, 1, 0, 2, 2, 2, 1, 2, 1, 2, 2, 2, 1, 1, 0, 1, 1, 2, 2, 0, 0, 2, 2, 1, 2, 1, 2, 2, 0, 2, 0, 0, 2, 2, 1, 1, 1, 0, 1, 2, 1, 2, 2, 2, 2, 0, 1, 1, 1, 1, 1, 2, 1, 0, 1, 1, 0, 1, 1, 1, 1, 2, 1, 1, 1, 1, 1, 2, 1, 1, 1, 2, 1, 1, 1, 1, 2, 1, 0, 0, 0, 0, 1, 2, 1, 2, 1, 2, 2, 2, 1, 1, 1, 1, 1, 0, 2, 0, 2, 0, 2, 1, 0, 0, 1, 1, 2, 0, 1, 1, 1, 1, 0, 1, 2, 2, 2, 2, 1, 0, 2, 0, 2, 0, 2, 0, 0, 1, 2, 0, 1, 2, 1, 2, 0, 0, 2, 2, 1, 2, 1, 1, 0, 2, 2, 2, 0, 1, 0, 2, 1, 0, 2, 0, 1, 2, 0, 2, 1, 2, 0, 1, 1, 1, 1, 0, 0, 0, 1, 2, 2, 0, 2, 0, 0, 2, 1, 0, 0, 2, 2, 2, 2, 2, 1, 1, 2, 2, 1, 1, 2, 0, 1, 0, 2, 1, 2, 2, 2, 1, 2, 2, 1, 2, 2, 1, 2, 1, 0, 1, 2, 2, 1, 0, 0, 2, 2, 2, 0, 1, 2, 0, 1, 0, 1, 1, 0, 2, 2, 2, 1, 0, 1, 1, 1, 0, 2, 0, 0, 2, 0, 2, 2, 2, 2, 1, 1, 0, 2, 2, 2, 2, 1, 1, 1, 0, 1, 2, 0, 1, 2, 1, 0, 1, 1, 1, 2, 0, 0, 1, 2, 1, 1, 1, 0, 2, 0, 1, 2, 1, 1, 2, 2, 2, 1, 2, 2, 1, 2, 1, 0, 2, 2, 0, 2, 0, 1, 1, 2, 2, 2, 2, 1, 2, 2, 1, 2, 2, 0, 1, 0, 0, 0, 2, 2, 1, 1, 2, 0, 2, 1, 1, 2, 1, 1, 2, 1, 2, 2, 0, 0, 1, 0, 1, 2, 0, 1, 2, 1, 1, 0, 1, 1, 1, 2, 0, 1, 2, 2, 0, 1, 1, 1, 0, 0, 0, 0, 2, 2, 2, 2, 1, 1, 2, 1, 2, 2, 0, 1, 2, 2, 2, 2, 1, 2, 0, 2, 2, 2, 0, 2, 2, 1, 0, 1, 2, 1, 2, 2, 1, 2, 2, 0, 1, 1, 0, 1, 2, 1, 2, 1, 0, 1, 1, 1, 1, 2, 2, 1, 2, 0, 2, 2, 1, 0, 0, 0, 1, 2, 0, 2, 1, 1, 2, 2, 1, 1, 0, 1, 1, 1, 0, 1, 1, 2, 1, 1, 2, 2, 2, 1, 1, 2, 1, 2, 1, 2, 2, 2, 2, 1, 1, 0, 0, 2, 2, 0, 2, 2, 2, 1, 2, 2, 1, 2, 1, 1, 0, 2, 2, 2, 0, 1, 0, 0, 1, 2, 2, 1, 2, 0, 2, 1, 2, 1, 1, 0, 0, 1, 1, 1, 2, 2, 2, 2, 0, 0, 0, 1, 2, 0, 1, 0, 2, 2, 1, 1, 1, 1, 0, 2, 2, 2, 1, 0, 1, 1, 1, 2, 1, 2, 2, 1, 2, 0, 1, 2, 1, 2, 0, 1, 2, 0, 2, 1, 2, 2, 2, 1, 1, 2, 1, 1, 0, 0, 2, 0, 0, 2, 1, 0, 1, 0, 1, 2, 1, 2, 2, 2, 2, 0, 1, 0, 2, 2, 1, 1, 2, 1, 0, 1, 2, 2, 0, 0, 0, 1, 0, 0, 0, 1, 1, 1, 0, 1, 1, 0, 2, 1, 0, 1, 2, 0, 2, 2, 2, 1, 2, 1, 2, 2, 2, 1, 1, 0, 1, 0, 2, 1, 1, 0, 1, 2, 2, 0, 0, 1, 1, 2, 1, 0, 0, 1, 0, 2, 1, 2, 0, 2, 2, 2, 0, 2, 0, 0, 2, 2, 0, 2, 0, 2, 0, 1, 2, 2, 0, 0, 2, 1, 2, 2, 1, 2, 2, 2, 0, 1, 1, 1, 0, 2, 0, 1, 0, 0, 1, 1, 1, 2, 1, 2, 1, 2, 1, 1, 1, 2, 2, 1, 2, 1, 1, 0, 0, 0, 1, 0, 2, 2, 2, 0, 1, 1, 0, 1, 2, 2, 1, 0, 0, 1, 1, 1, 1, 0, 0, 1, 2, 0, 1, 1, 2, 1, 0, 2, 0, 0, 2, 1, 0, 1, 1, 1, 2, 2, 1, 0, 0, 1, 2, 2, 1, 1, 2, 1, 1, 1, 2, 1, 2, 2, 1, 0, 0, 1, 0, 2, 0, 1, 1, 2, 0, 0, 0, 2, 2, 1, 2, 2, 2, 2, 0, 1, 0, 1, 1, 0, 0, 2, 2, 1, 0, 0, 1, 1, 1, 1, 2, 2, 1, 0, 2, 1, 1, 0, 2, 1, 2, 2, 2, 1, 0, 1, 0, 1, 2, 1, 1, 0, 2, 0, 2, 2, 1, 0, 1, 0, 0, 2, 2, 2, 2, 0, 2, 1, 2, 0, 0, 2, 2, 1, 1, 0, 1, 2, 2, 2, 1, 1, 1, 2, 0, 2, 1, 1, 1, 0, 0, 1, 0, 1, 1, 1, 0, 0, 1, 2, 0, 0, 0, 2, 1, 2, 2, 1, 1, 0, 2, 1, 0, 0, 0, 1, 2, 1, 2, 0, 2, 2, 0, 2, 2, 1, 2, 2, 2, 0, 1, 1, 0, 0, 0, 2, 0, 2, 0, 1, 0, 2, 2, 2, 1, 1, 1, 2, 1, 2, 0, 1, 1, 2, 1, 2, 1, 2, 0, 2, 0, 1, 1, 0, 2, 1, 1, 2, 0, 1, 1, 1, 1, 2, 2, 0, 2, 2, 2, 1, 2, 1, 2, 2, 1, 1, 1, 2, 0, 2, 0, 2, 0, 1, 0, 1, 0, 2, 2, 1, 2, 2, 2, 1, 0, 2, 0, 2, 2, 1, 1, 2, 2, 1, 0, 1, 1, 2, 2, 0, 1, 2, 0, 1, 1, 2, 1, 0, 2, 0, 2, 1, 1, 1, 1, 2, 0, 2, 2, 1, 2, 1, 2, 1, 1, 0, 2, 1, 0, 2, 2, 2, 2, 1, 2, 1, 2, 0, 1, 1, 2, 1, 1, 0, 1, 0, 0, 0, 2, 2, 1, 1, 2, 1, 0, 2, 1, 2, 1, 2, 1, 0, 2, 2, 0, 0, 0, 0, 2, 1, 0, 1, 0, 2, 1, 1, 2, 1, 2, 0, 2, 1, 1, 1, 1, 2, 2, 2, 0, 1, 2, 2, 2, 0, 0, 1, 0, 0, 1, 2, 1, 0, 0, 1, 1, 1, 2, 0, 2, 1, 2, 1, 0, 2, 1, 0, 0, 2, 2, 1, 0, 0, 2, 1, 2, 2, 0, 2, 0, 2, 2, 0, 2, 0, 2, 0, 0, 0, 1, 0, 2, 2, 1, 1, 1, 1, 0, 1, 2, 1, 2, 1, 2, 2, 0, 0, 0, 0, 0, 1, 2, 0, 1, 1, 1, 1, 2, 1, 1, 1, 2, 1, 2, 1, 1, 2, 2, 1, 0, 2, 2, 1, 1, 2, 2, 2, 0, 0, 2, 1, 0, 1, 0, 2, 1, 0, 1, 2, 2, 2, 0, 1, 0, 2, 2, 1, 2, 1, 0, 2, 2, 0, 2, 1, 2, 0, 1, 0, 0, 1, 2, 2, 2, 0, 1, 1, 2, 0, 0, 1, 1, 0, 1, 2, 1, 2, 0, 2, 0, 1, 2, 2, 2, 1, 0, 2, 2, 0, 2, 0, 2, 2, 1, 2, 2, 0, 2, 1, 1, 1, 2, 2, 2, 2, 2, 2, 1, 0, 2, 0, 2, 2, 1, 0, 1, 1, 0, 1, 2, 2, 1, 2, 1, 2, 1, 1, 1, 0, 0, 2, 2, 1, 2, 0, 2, 1, 0, 1, 2, 1, 2, 1, 2, 2, 1, 1, 0, 1, 2, 0, 0, 2, 0, 2, 2, 2, 1, 1, 1, 1, 2, 0, 2, 1, 0, 1, 0, 0, 1, 0, 2, 2, 2, 0, 1, 2, 2, 2, 0, 1, 2, 0, 1, 2, 1, 0, 1, 0, 2, 2, 2, 0, 2, 2, 0, 0, 1, 2, 2, 2, 2, 0, 0, 1, 1, 0, 1, 0, 1, 2, 0, 2, 0, 1, 1, 1, 2, 2, 1, 1, 2, 2, 1, 2, 0, 2, 2, 1, 2, 1, 1, 0, 2, 2, 1, 0, 2, 2, 2, 0, 0, 0, 2, 1, 0, 2, 1, 2, 1, 1, 0, 2, 2, 1, 0, 1, 2, 1, 1, 1, 0, 0, 2, 1, 2, 2, 1, 2, 1, 1, 2, 2, 0, 0, 0, 0, 2, 0, 2, 0, 1, 0, 1, 2, 2, 2, 0, 2, 1, 1, 2, 2, 1, 0, 1, 0, 1, 0, 2, 0, 2, 1, 0, 1, 0, 0, 2, 1, 2, 2, 2, 2, 2, 2, 0, 2, 2, 0, 2, 1, 2, 2, 2, 1, 2, 2, 1, 1, 0, 0, 2, 1, 1, 2, 2, 0, 1, 2, 0, 1, 1, 0, 0, 0, 1, 2, 1, 1, 1, 1, 2, 1, 1, 2, 0, 2, 2, 2, 0, 0, 1, 2, 0, 1, 1, 1, 0, 2, 2, 0, 2, 2, 1, 2, 1, 2, 1, 2, 1, 2, 2, 1, 0, 1, 1, 1, 0, 1, 1, 0, 1, 2, 1, 0, 2, 1, 0, 1, 1, 2, 2, 0, 1, 0, 1, 1, 1, 2, 1, 0, 2, 2, 1, 2, 2, 1, 0, 0, 0, 2, 0, 0, 2, 2, 1, 2, 2, 2, 0, 1, 0, 1, 0, 2, 1, 0, 0, 0, 1, 2, 0, 2, 2, 1, 2, 0, 2, 2, 1, 1, 2, 2, 2, 2, 0, 1, 1, 1, 1, 1, 1, 2, 1, 0, 1, 0, 2, 2, 1, 1, 1, 1, 1, 2, 1, 0, 1, 1, 1, 1, 2, 1, 1, 1, 0, 0, 0, 0, 0, 1, 0, 2, 0, 2, 0, 1, 2, 0, 2, 2, 1, 1, 2, 1, 1, 2, 2, 1, 0, 0, 1, 0, 1, 0, 2, 0, 0, 0, 0, 2, 1, 0, 1, 0, 1, 0, 0, 1, 2, 1, 0, 2, 1, 0, 1, 1, 2, 1, 0, 1, 2, 1, 2, 2, 1, 2, 0, 2, 1, 2, 0, 1, 2, 2, 2, 0, 1, 1, 1, 1, 2, 2, 1, 1, 2, 1, 2, 2, 1, 0, 0, 0, 1, 0, 1, 1, 2, 2, 2, 2, 0, 2, 0, 1, 1, 1, 1, 0, 0, 0, 2, 2, 2, 2, 0, 0, 2, 2, 0, 2, 2, 2, 0, 0, 1, 2, 2, 0, 2, 1, 1, 1, 2, 2, 0, 2, 0, 0, 1, 2, 1, 1, 1, 1, 2, 2, 2, 0, 2, 2, 1, 1, 2, 0, 1, 2, 1, 2, 2, 0, 1, 1, 2, 0, 2, 0, 0, 1, 2, 1, 0, 2, 1, 1, 0, 1, 2, 2, 2, 0, 1, 0, 2, 2, 2, 2, 2, 1, 1, 2, 1, 1, 1, 1, 0, 1, 2, 2, 1, 1, 0, 1, 0, 1, 0, 2, 0, 1, 1, 2, 1, 2, 0, 0, 1, 0, 0, 2, 1, 0, 0, 2, 2, 2, 2, 1, 0, 1, 2, 0, 0, 0, 2, 2, 1, 1, 1, 0, 2, 1, 0, 2, 2, 1, 0, 1, 1, 2, 1, 0, 2, 2, 1, 0, 0, 2, 0, 1, 1, 0, 0, 1, 2, 1, 1, 2, 0, 1, 0, 0, 2, 1, 2, 1, 2, 1, 0, 1, 2, 1, 2, 1, 2, 1, 1, 2, 1, 0, 2, 0, 1, 2, 0, 2, 1, 1, 1, 2, 2, 1, 0, 2, 1, 1, 0, 0, 1, 2, 2, 1, 2, 2, 0, 0, 0, 2, 1, 2, 1, 2, 2, 2, 0, 0, 1, 0, 0, 1, 2, 2, 1, 1, 0, 2, 2, 2, 1, 0, 2, 0, 0, 2, 0, 0, 2, 2, 1, 1, 0, 0, 2, 0, 2, 2, 1, 0, 2, 0, 2, 1, 2, 2, 1, 2, 1, 2, 1, 1, 2, 2, 1, 2, 0, 2, 2, 0, 2, 1, 2, 2, 2, 0, 2, 1, 2, 1, 2, 2, 2, 2, 1, 2, 0, 2, 2, 0, 2, 1, 2, 0, 2, 2, 2, 1, 2, 1, 0, 2, 1, 2, 2, 2, 1, 2, 1, 2, 0, 2, 2, 0, 0, 0, 0, 2, 2, 1, 1, 0, 2, 2, 1, 0, 0, 1, 1, 1, 0, 2, 2, 2, 2, 2, 2, 2, 0, 1, 1, 1, 2, 2, 2, 0, 2, 0, 1, 2, 1, 0, 0, 1, 1, 2, 0, 1, 2, 2, 2, 2, 0, 0, 1, 1, 1, 1, 1, 2, 1, 2, 0, 2, 0, 2, 2, 0, 1, 1, 1, 1, 1, 1, 2, 2, 2, 2, 1, 0, 2, 2, 0, 2, 2, 1, 2, 0, 2, 0, 2, 2, 0, 2, 1, 2, 1, 1, 1, 2, 1, 0, 1, 1, 1, 1, 2, 2, 1, 2, 2, 2, 0, 2, 1, 2, 0, 1, 2, 2, 1, 0, 0, 2, 1, 1, 0, 2, 0, 2, 1, 1, 1, 1, 0, 0, 2, 1, 0, 2, 0, 2, 0, 2, 1, 2, 0, 0, 0, 1, 2, 0, 1, 2, 1, 2, 2, 1, 2, 2, 2, 1, 1, 0, 0, 0, 2, 1, 2, 1, 1, 0, 0, 1, 2, 1, 2, 1, 1, 1, 1, 1, 0, 1, 0, 2, 1, 2, 2, 1, 0, 2, 2, 2, 2, 0, 2, 0, 2, 0, 1, 1, 2, 2, 0, 1, 0, 2, 0, 1, 1, 1, 0, 1, 1, 1, 1, 1, 0, 1, 0, 1, 0, 0, 1, 1, 0, 0, 1, 1, 1, 1, 1, 1, 0, 1, 1, 1, 0, 0, 0, 0, 1, 0, 1, 1, 1, 0, 1, 1, 0, 0, 0, 1, 0, 0, 1, 1, 1, 1, 1, 1, 0, 1, 1, 0, 0, 0, 0, 0, 1, 1, 1, 0, 1, 0, 0, 1, 1, 1, 1, 1, 0, 0, 0, 0, 1, 0, 0, 1, 1, 1, 1, 1, 1, 1, 0, 1, 0, 0, 0, 1, 0, 0, 0, 1, 1, 1, 1, 1, 0, 0, 0, 1, 0, 1, 0, 1, 0, 0, 1, 1, 1, 1, 0, 1, 1, 1, 1, 1, 0, 1, 0, 0, 0, 0, 0, 0, 0, 0, 0, 0, 0, 0, 0, 0, 0, 0, 0, 0, 0, 0, 0, 0, 0, 0, 0, 0, 0, 0, 0, 0, 0, 0, 0, 0, 0, 0, 0, 0, 0, 0, 0, 0, 0, 0, 0, 0, 0, 0, 0, 0, 0, 0, 0, 0, 0, 0, 0, 0, 0, 0, 0, 0, 0, 0, 0, 0, 0, 0, 0, 0, 0, 0, 0, 0, 0, 0, 0, 0, 0, 0, 0, 0, 0, 0, 0, 0, 0, 0, 0, 0, 0, 0, 0, 0, 0, 0, 0, 0, 0, 0, 0, 0, 0, 0, 0, 0, 0, 0, 0, 0, 0, 0, 0, 0, 0, 0, 0, 0, 0, 0, 0, 0, 0, 0, 0, 0, 0, 0, 0, 0, 0, 0, 0, 0, 0, 0, 0, 0, 0, 0, 0, 0, 0, 0, 0, 0, 0, 0, 0, 0, 0, 0, 0, 0, 0, 0, 0, 0, 0, 0, 0, 0, 0, 0, 0, 0, 0, 0, 0, 0, 0, 0, 0, 0, 0, 0, 0, 0, 0, 0, 0, 0, 0, 0, 0, 0, 0, 0, 0, 0, 0, 0, 0, 0, 0, 0, 0, 0, 0, 0, 0, 0, 0, 0, 0, 0, 0, 0, 0, 0, 0, 0, 0, 0, 0, 0, 0, 0, 0, 0, 0, 0, 0, 0, 0, 0, 0, 0, 0, 0, 0, 0, 0, 0, 0, 0, 0, 0, 0, 0, 0, 0, 0, 0, 0, 0, 0, 0, 0, 0, 0, 0, 0, 0, 0, 0, 0, 0, 0, 0, 0, 0, 0, 0, 0, 0, 0, 0, 0, 0, 0, 0, 0, 0, 0, 0, 0]\n",
      "No integer or keyword found in element at index 136 None\n",
      "No integer or keyword found in element at index 140 None\n",
      "No integer or keyword found in element at index 267 None\n",
      "No integer or keyword found in element at index 492 None\n",
      "No integer or keyword found in element at index 668 None\n",
      "No integer or keyword found in element at index 689 None\n",
      "No integer or keyword found in element at index 755 None\n",
      "No integer or keyword found in element at index 782 None\n",
      "No integer or keyword found in element at index 812 None\n",
      "No integer or keyword found in element at index 815 None\n",
      "No integer or keyword found in element at index 1143 None\n",
      "No integer or keyword found in element at index 1214 None\n",
      "No integer or keyword found in element at index 1217 None\n",
      "No integer or keyword found in element at index 1446 None\n",
      "No integer or keyword found in element at index 1564 None\n",
      "No integer or keyword found in element at index 1565 None\n",
      "No integer or keyword found in element at index 1582 None\n",
      "No integer or keyword found in element at index 1616 None\n",
      "No integer or keyword found in element at index 1723 None\n",
      "No integer or keyword found in element at index 1771 None\n",
      "No integer or keyword found in element at index 1828 None\n",
      "No integer or keyword found in element at index 1846 None\n",
      "No integer or keyword found in element at index 1883 None\n",
      "No integer or keyword found in element at index 2123 None\n",
      "No integer or keyword found in element at index 2148 None\n",
      "No integer or keyword found in element at index 2151 None\n",
      "No integer or keyword found in element at index 2231 None\n",
      "No integer or keyword found in element at index 2359 None\n",
      "No integer or keyword found in element at index 2380 None\n",
      "No integer or keyword found in element at index 2473 None\n",
      "No integer or keyword found in element at index 2660 None\n",
      "No integer or keyword found in element at index 2797 None\n",
      "No integer or keyword found in element at index 2870 None\n",
      "No integer or keyword found in element at index 2898 None\n"
     ]
    }
   ],
   "source": [
    "\n",
    "gold_ans = df_gt['label'].tolist()\n",
    "print(\"gold_ans:\", gold_ans)\n",
    "labels_parsed = extract_integers(df_lastline)"
   ]
  },
  {
   "cell_type": "code",
   "execution_count": 9,
   "metadata": {},
   "outputs": [
    {
     "data": {
      "text/plain": [
       "3000"
      ]
     },
     "execution_count": 9,
     "metadata": {},
     "output_type": "execute_result"
    }
   ],
   "source": [
    "len(labels_parsed)"
   ]
  },
  {
   "cell_type": "code",
   "execution_count": 10,
   "metadata": {},
   "outputs": [
    {
     "name": "stdout",
     "output_type": "stream",
     "text": [
      "CLEF3A, CoT, prompt with temperature=0.1:\n",
      " {\n",
      "    \"accuracy\": 0.4553333333333333,\n",
      "    \"precision\": 0.4848061501002057,\n",
      "    \"recall\": 0.4553333333333333,\n",
      "    \"f1-score\": 0.44758415114104694\n",
      "}\n"
     ]
    },
    {
     "name": "stderr",
     "output_type": "stream",
     "text": [
      "/home/michele.maggini/miniconda3/envs/unsloth_env/lib/python3.10/site-packages/sklearn/metrics/_classification.py:1531: UndefinedMetricWarning: Recall is ill-defined and being set to 0.0 in labels with no true samples. Use `zero_division` parameter to control this behavior.\n",
      "  _warn_prf(average, modifier, f\"{metric.capitalize()} is\", len(result))\n"
     ]
    }
   ],
   "source": [
    "def compute_metrics(predictions, labels):\n",
    "        accuracy_metric = evaluate.load(\"accuracy\")\n",
    "        precision_metric = evaluate.load(\"precision\")\n",
    "        recall_metric = evaluate.load(\"recall\")\n",
    "        f1_metric = evaluate.load(\"f1\")\n",
    "\n",
    "\n",
    "        accuracy = accuracy_metric.compute(predictions=predictions, references=labels)[\n",
    "            \"accuracy\"\n",
    "        ]\n",
    "        precision = precision_metric.compute(\n",
    "            predictions=predictions, references=labels, average=\"weighted\"\n",
    "        )[\"precision\"]\n",
    "        recall = recall_metric.compute(\n",
    "            predictions=predictions, references=labels, average=\"weighted\"\n",
    "        )[\"recall\"]\n",
    "        f1 = f1_metric.compute(\n",
    "            predictions=predictions, references=labels, average=\"weighted\"\n",
    "        )[\"f1\"]\n",
    "\n",
    "        return {\n",
    "            \"accuracy\": accuracy,\n",
    "            \"precision\": precision,\n",
    "            \"recall\": recall,\n",
    "            \"f1-score\": f1,\n",
    "        }\n",
    "\n",
    "\n",
    "results=compute_metrics(labels_parsed, gold_ans)\n",
    "print(f\"CLEF3A, CoT, prompt with temperature=0.1:\\n\", json.dumps(results, indent=4))"
   ]
  },
  {
   "cell_type": "code",
   "execution_count": 11,
   "metadata": {},
   "outputs": [
    {
     "name": "stdout",
     "output_type": "stream",
     "text": [
      "              precision    recall  f1-score   support\n",
      "\n",
      "           0       0.45      0.44      0.45      1000\n",
      "           1       0.41      0.62      0.50      1000\n",
      "           2       0.59      0.30      0.40      1000\n",
      "           5       0.00      0.00      0.00         0\n",
      "           6       0.00      0.00      0.00         0\n",
      "           7       0.00      0.00      0.00         0\n",
      "           8       0.00      0.00      0.00         0\n",
      "\n",
      "    accuracy                           0.46      3000\n",
      "   macro avg       0.21      0.20      0.19      3000\n",
      "weighted avg       0.48      0.46      0.45      3000\n",
      "\n"
     ]
    },
    {
     "name": "stderr",
     "output_type": "stream",
     "text": [
      "/home/michele.maggini/miniconda3/envs/unsloth_env/lib/python3.10/site-packages/sklearn/metrics/_classification.py:1531: UndefinedMetricWarning: Recall is ill-defined and being set to 0.0 in labels with no true samples. Use `zero_division` parameter to control this behavior.\n",
      "  _warn_prf(average, modifier, f\"{metric.capitalize()} is\", len(result))\n",
      "/home/michele.maggini/miniconda3/envs/unsloth_env/lib/python3.10/site-packages/sklearn/metrics/_classification.py:1531: UndefinedMetricWarning: Recall is ill-defined and being set to 0.0 in labels with no true samples. Use `zero_division` parameter to control this behavior.\n",
      "  _warn_prf(average, modifier, f\"{metric.capitalize()} is\", len(result))\n",
      "/home/michele.maggini/miniconda3/envs/unsloth_env/lib/python3.10/site-packages/sklearn/metrics/_classification.py:1531: UndefinedMetricWarning: Recall is ill-defined and being set to 0.0 in labels with no true samples. Use `zero_division` parameter to control this behavior.\n",
      "  _warn_prf(average, modifier, f\"{metric.capitalize()} is\", len(result))\n"
     ]
    }
   ],
   "source": [
    "from sklearn.metrics import precision_recall_fscore_support, classification_report\n",
    "\n",
    "print(classification_report(gold_ans, labels_parsed))"
   ]
  }
 ],
 "metadata": {
  "kernelspec": {
   "display_name": "bert_env",
   "language": "python",
   "name": "python3"
  },
  "language_info": {
   "codemirror_mode": {
    "name": "ipython",
    "version": 3
   },
   "file_extension": ".py",
   "mimetype": "text/x-python",
   "name": "python",
   "nbconvert_exporter": "python",
   "pygments_lexer": "ipython3",
   "version": "3.10.14"
  }
 },
 "nbformat": 4,
 "nbformat_minor": 2
}
